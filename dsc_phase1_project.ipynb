{
  "nbformat": 4,
  "nbformat_minor": 0,
  "metadata": {
    "colab": {
      "provenance": []
    },
    "kernelspec": {
      "name": "python3",
      "display_name": "Python 3"
    },
    "language_info": {
      "name": "python"
    }
  },
  "cells": [
    {
      "cell_type": "markdown",
      "source": [
        "# A Data Analysis of Aircraft Incidents for Business Strategy Minimizing Risk"
      ],
      "metadata": {
        "id": "MyE7xc1ecGo1"
      }
    },
    {
      "cell_type": "markdown",
      "source": [
        "## Overview\n",
        "\n",
        "In this project, I analyzed aviation accident data from the National Transportation Safety Board (NTSB) to help guide safer aircraft purchases.\n",
        "Using Python and pandas, I cleaned and explored the data, focusing on trends in manufacturer safety, injury severity, and number of engines.\n",
        "The analysis showed that aircraft from certain manufacturers and those with fewer engines tend to be involved in fewer and less severe accidents.\n",
        "These insights informed three business recommendations to support data-driven decisions as the company enters the aviation industry."
      ],
      "metadata": {
        "id": "nGN55nmOfyHO"
      }
    },
    {
      "cell_type": "markdown",
      "source": [
        "## Business Understanding\n",
        "\n",
        "The business problem focuses on minimizing risk as the company expands into aviation by purchasing aircraft for commercial and private use.\n",
        "To support safe investment decisions, I analyzed historical accident data to identify manufacturers with fewer incidents, aircraft with fewer engines, and models linked to less severe outcomes.\n",
        "These factors directly impact safety, operational costs, and reputation, helping the company make informed, low-risk purchasing choices."
      ],
      "metadata": {
        "id": "bI4QV42y-sqG"
      }
    },
    {
      "cell_type": "markdown",
      "source": [
        "## Data Understanding\n",
        "\n",
        "The dataset comes from the NTSB and contains records of civil aviation accidents from 1962 to 2023, including aircraft manufacturer, model, number of engines, location, and injury severity.\n",
        "It reflects the safety history of different aircraft, which is critical for evaluating investment risks in aviation.\n",
        "The analysis focuses on accident severity as the target variable, using both categorical and numerical data to uncover safety trends."
      ],
      "metadata": {
        "id": "tDk3lc1ghQiD"
      }
    },
    {
      "cell_type": "code",
      "execution_count": 2,
      "metadata": {
        "colab": {
          "base_uri": "https://localhost:8080/",
          "height": 342
        },
        "id": "GSi46-k7yF15",
        "outputId": "51ab5311-53f8-4487-e340-1632d228c79a"
      },
      "outputs": [
        {
          "output_type": "execute_result",
          "data": {
            "text/plain": [
              "         Event.Id Investigation.Type Accident.Number  Event.Date  \\\n",
              "0  20001218X45444           Accident      SEA87LA080  1948-10-24   \n",
              "1  20001218X45447           Accident      LAX94LA336  1962-07-19   \n",
              "2  20061025X01555           Accident      NYC07LA005  1974-08-30   \n",
              "3  20001218X45448           Accident      LAX96LA321  1977-06-19   \n",
              "4  20041105X01764           Accident      CHI79FA064  1979-08-02   \n",
              "\n",
              "          Location        Country   Latitude  Longitude Airport.Code  \\\n",
              "0  MOOSE CREEK, ID  United States        NaN        NaN          NaN   \n",
              "1   BRIDGEPORT, CA  United States        NaN        NaN          NaN   \n",
              "2    Saltville, VA  United States  36.922223 -81.878056          NaN   \n",
              "3       EUREKA, CA  United States        NaN        NaN          NaN   \n",
              "4       Canton, OH  United States        NaN        NaN          NaN   \n",
              "\n",
              "  Airport.Name  ... Purpose.of.flight Air.carrier Total.Fatal.Injuries  \\\n",
              "0          NaN  ...          Personal         NaN                  2.0   \n",
              "1          NaN  ...          Personal         NaN                  4.0   \n",
              "2          NaN  ...          Personal         NaN                  3.0   \n",
              "3          NaN  ...          Personal         NaN                  2.0   \n",
              "4          NaN  ...          Personal         NaN                  1.0   \n",
              "\n",
              "  Total.Serious.Injuries Total.Minor.Injuries Total.Uninjured  \\\n",
              "0                    0.0                  0.0             0.0   \n",
              "1                    0.0                  0.0             0.0   \n",
              "2                    NaN                  NaN             NaN   \n",
              "3                    0.0                  0.0             0.0   \n",
              "4                    2.0                  NaN             0.0   \n",
              "\n",
              "  Weather.Condition  Broad.phase.of.flight   Report.Status Publication.Date  \n",
              "0               UNK                 Cruise  Probable Cause              NaN  \n",
              "1               UNK                Unknown  Probable Cause       19-09-1996  \n",
              "2               IMC                 Cruise  Probable Cause       26-02-2007  \n",
              "3               IMC                 Cruise  Probable Cause       12-09-2000  \n",
              "4               VMC               Approach  Probable Cause       16-04-1980  \n",
              "\n",
              "[5 rows x 31 columns]"
            ],
            "text/html": [
              "\n",
              "  <div id=\"df-6e3d2ad6-b296-44af-95bb-fe46492e3904\" class=\"colab-df-container\">\n",
              "    <div>\n",
              "<style scoped>\n",
              "    .dataframe tbody tr th:only-of-type {\n",
              "        vertical-align: middle;\n",
              "    }\n",
              "\n",
              "    .dataframe tbody tr th {\n",
              "        vertical-align: top;\n",
              "    }\n",
              "\n",
              "    .dataframe thead th {\n",
              "        text-align: right;\n",
              "    }\n",
              "</style>\n",
              "<table border=\"1\" class=\"dataframe\">\n",
              "  <thead>\n",
              "    <tr style=\"text-align: right;\">\n",
              "      <th></th>\n",
              "      <th>Event.Id</th>\n",
              "      <th>Investigation.Type</th>\n",
              "      <th>Accident.Number</th>\n",
              "      <th>Event.Date</th>\n",
              "      <th>Location</th>\n",
              "      <th>Country</th>\n",
              "      <th>Latitude</th>\n",
              "      <th>Longitude</th>\n",
              "      <th>Airport.Code</th>\n",
              "      <th>Airport.Name</th>\n",
              "      <th>...</th>\n",
              "      <th>Purpose.of.flight</th>\n",
              "      <th>Air.carrier</th>\n",
              "      <th>Total.Fatal.Injuries</th>\n",
              "      <th>Total.Serious.Injuries</th>\n",
              "      <th>Total.Minor.Injuries</th>\n",
              "      <th>Total.Uninjured</th>\n",
              "      <th>Weather.Condition</th>\n",
              "      <th>Broad.phase.of.flight</th>\n",
              "      <th>Report.Status</th>\n",
              "      <th>Publication.Date</th>\n",
              "    </tr>\n",
              "  </thead>\n",
              "  <tbody>\n",
              "    <tr>\n",
              "      <th>0</th>\n",
              "      <td>20001218X45444</td>\n",
              "      <td>Accident</td>\n",
              "      <td>SEA87LA080</td>\n",
              "      <td>1948-10-24</td>\n",
              "      <td>MOOSE CREEK, ID</td>\n",
              "      <td>United States</td>\n",
              "      <td>NaN</td>\n",
              "      <td>NaN</td>\n",
              "      <td>NaN</td>\n",
              "      <td>NaN</td>\n",
              "      <td>...</td>\n",
              "      <td>Personal</td>\n",
              "      <td>NaN</td>\n",
              "      <td>2.0</td>\n",
              "      <td>0.0</td>\n",
              "      <td>0.0</td>\n",
              "      <td>0.0</td>\n",
              "      <td>UNK</td>\n",
              "      <td>Cruise</td>\n",
              "      <td>Probable Cause</td>\n",
              "      <td>NaN</td>\n",
              "    </tr>\n",
              "    <tr>\n",
              "      <th>1</th>\n",
              "      <td>20001218X45447</td>\n",
              "      <td>Accident</td>\n",
              "      <td>LAX94LA336</td>\n",
              "      <td>1962-07-19</td>\n",
              "      <td>BRIDGEPORT, CA</td>\n",
              "      <td>United States</td>\n",
              "      <td>NaN</td>\n",
              "      <td>NaN</td>\n",
              "      <td>NaN</td>\n",
              "      <td>NaN</td>\n",
              "      <td>...</td>\n",
              "      <td>Personal</td>\n",
              "      <td>NaN</td>\n",
              "      <td>4.0</td>\n",
              "      <td>0.0</td>\n",
              "      <td>0.0</td>\n",
              "      <td>0.0</td>\n",
              "      <td>UNK</td>\n",
              "      <td>Unknown</td>\n",
              "      <td>Probable Cause</td>\n",
              "      <td>19-09-1996</td>\n",
              "    </tr>\n",
              "    <tr>\n",
              "      <th>2</th>\n",
              "      <td>20061025X01555</td>\n",
              "      <td>Accident</td>\n",
              "      <td>NYC07LA005</td>\n",
              "      <td>1974-08-30</td>\n",
              "      <td>Saltville, VA</td>\n",
              "      <td>United States</td>\n",
              "      <td>36.922223</td>\n",
              "      <td>-81.878056</td>\n",
              "      <td>NaN</td>\n",
              "      <td>NaN</td>\n",
              "      <td>...</td>\n",
              "      <td>Personal</td>\n",
              "      <td>NaN</td>\n",
              "      <td>3.0</td>\n",
              "      <td>NaN</td>\n",
              "      <td>NaN</td>\n",
              "      <td>NaN</td>\n",
              "      <td>IMC</td>\n",
              "      <td>Cruise</td>\n",
              "      <td>Probable Cause</td>\n",
              "      <td>26-02-2007</td>\n",
              "    </tr>\n",
              "    <tr>\n",
              "      <th>3</th>\n",
              "      <td>20001218X45448</td>\n",
              "      <td>Accident</td>\n",
              "      <td>LAX96LA321</td>\n",
              "      <td>1977-06-19</td>\n",
              "      <td>EUREKA, CA</td>\n",
              "      <td>United States</td>\n",
              "      <td>NaN</td>\n",
              "      <td>NaN</td>\n",
              "      <td>NaN</td>\n",
              "      <td>NaN</td>\n",
              "      <td>...</td>\n",
              "      <td>Personal</td>\n",
              "      <td>NaN</td>\n",
              "      <td>2.0</td>\n",
              "      <td>0.0</td>\n",
              "      <td>0.0</td>\n",
              "      <td>0.0</td>\n",
              "      <td>IMC</td>\n",
              "      <td>Cruise</td>\n",
              "      <td>Probable Cause</td>\n",
              "      <td>12-09-2000</td>\n",
              "    </tr>\n",
              "    <tr>\n",
              "      <th>4</th>\n",
              "      <td>20041105X01764</td>\n",
              "      <td>Accident</td>\n",
              "      <td>CHI79FA064</td>\n",
              "      <td>1979-08-02</td>\n",
              "      <td>Canton, OH</td>\n",
              "      <td>United States</td>\n",
              "      <td>NaN</td>\n",
              "      <td>NaN</td>\n",
              "      <td>NaN</td>\n",
              "      <td>NaN</td>\n",
              "      <td>...</td>\n",
              "      <td>Personal</td>\n",
              "      <td>NaN</td>\n",
              "      <td>1.0</td>\n",
              "      <td>2.0</td>\n",
              "      <td>NaN</td>\n",
              "      <td>0.0</td>\n",
              "      <td>VMC</td>\n",
              "      <td>Approach</td>\n",
              "      <td>Probable Cause</td>\n",
              "      <td>16-04-1980</td>\n",
              "    </tr>\n",
              "  </tbody>\n",
              "</table>\n",
              "<p>5 rows × 31 columns</p>\n",
              "</div>\n",
              "    <div class=\"colab-df-buttons\">\n",
              "\n",
              "  <div class=\"colab-df-container\">\n",
              "    <button class=\"colab-df-convert\" onclick=\"convertToInteractive('df-6e3d2ad6-b296-44af-95bb-fe46492e3904')\"\n",
              "            title=\"Convert this dataframe to an interactive table.\"\n",
              "            style=\"display:none;\">\n",
              "\n",
              "  <svg xmlns=\"http://www.w3.org/2000/svg\" height=\"24px\" viewBox=\"0 -960 960 960\">\n",
              "    <path d=\"M120-120v-720h720v720H120Zm60-500h600v-160H180v160Zm220 220h160v-160H400v160Zm0 220h160v-160H400v160ZM180-400h160v-160H180v160Zm440 0h160v-160H620v160ZM180-180h160v-160H180v160Zm440 0h160v-160H620v160Z\"/>\n",
              "  </svg>\n",
              "    </button>\n",
              "\n",
              "  <style>\n",
              "    .colab-df-container {\n",
              "      display:flex;\n",
              "      gap: 12px;\n",
              "    }\n",
              "\n",
              "    .colab-df-convert {\n",
              "      background-color: #E8F0FE;\n",
              "      border: none;\n",
              "      border-radius: 50%;\n",
              "      cursor: pointer;\n",
              "      display: none;\n",
              "      fill: #1967D2;\n",
              "      height: 32px;\n",
              "      padding: 0 0 0 0;\n",
              "      width: 32px;\n",
              "    }\n",
              "\n",
              "    .colab-df-convert:hover {\n",
              "      background-color: #E2EBFA;\n",
              "      box-shadow: 0px 1px 2px rgba(60, 64, 67, 0.3), 0px 1px 3px 1px rgba(60, 64, 67, 0.15);\n",
              "      fill: #174EA6;\n",
              "    }\n",
              "\n",
              "    .colab-df-buttons div {\n",
              "      margin-bottom: 4px;\n",
              "    }\n",
              "\n",
              "    [theme=dark] .colab-df-convert {\n",
              "      background-color: #3B4455;\n",
              "      fill: #D2E3FC;\n",
              "    }\n",
              "\n",
              "    [theme=dark] .colab-df-convert:hover {\n",
              "      background-color: #434B5C;\n",
              "      box-shadow: 0px 1px 3px 1px rgba(0, 0, 0, 0.15);\n",
              "      filter: drop-shadow(0px 1px 2px rgba(0, 0, 0, 0.3));\n",
              "      fill: #FFFFFF;\n",
              "    }\n",
              "  </style>\n",
              "\n",
              "    <script>\n",
              "      const buttonEl =\n",
              "        document.querySelector('#df-6e3d2ad6-b296-44af-95bb-fe46492e3904 button.colab-df-convert');\n",
              "      buttonEl.style.display =\n",
              "        google.colab.kernel.accessAllowed ? 'block' : 'none';\n",
              "\n",
              "      async function convertToInteractive(key) {\n",
              "        const element = document.querySelector('#df-6e3d2ad6-b296-44af-95bb-fe46492e3904');\n",
              "        const dataTable =\n",
              "          await google.colab.kernel.invokeFunction('convertToInteractive',\n",
              "                                                    [key], {});\n",
              "        if (!dataTable) return;\n",
              "\n",
              "        const docLinkHtml = 'Like what you see? Visit the ' +\n",
              "          '<a target=\"_blank\" href=https://colab.research.google.com/notebooks/data_table.ipynb>data table notebook</a>'\n",
              "          + ' to learn more about interactive tables.';\n",
              "        element.innerHTML = '';\n",
              "        dataTable['output_type'] = 'display_data';\n",
              "        await google.colab.output.renderOutput(dataTable, element);\n",
              "        const docLink = document.createElement('div');\n",
              "        docLink.innerHTML = docLinkHtml;\n",
              "        element.appendChild(docLink);\n",
              "      }\n",
              "    </script>\n",
              "  </div>\n",
              "\n",
              "\n",
              "    <div id=\"df-d538d544-6e76-455d-aafe-b596722c9c99\">\n",
              "      <button class=\"colab-df-quickchart\" onclick=\"quickchart('df-d538d544-6e76-455d-aafe-b596722c9c99')\"\n",
              "                title=\"Suggest charts\"\n",
              "                style=\"display:none;\">\n",
              "\n",
              "<svg xmlns=\"http://www.w3.org/2000/svg\" height=\"24px\"viewBox=\"0 0 24 24\"\n",
              "     width=\"24px\">\n",
              "    <g>\n",
              "        <path d=\"M19 3H5c-1.1 0-2 .9-2 2v14c0 1.1.9 2 2 2h14c1.1 0 2-.9 2-2V5c0-1.1-.9-2-2-2zM9 17H7v-7h2v7zm4 0h-2V7h2v10zm4 0h-2v-4h2v4z\"/>\n",
              "    </g>\n",
              "</svg>\n",
              "      </button>\n",
              "\n",
              "<style>\n",
              "  .colab-df-quickchart {\n",
              "      --bg-color: #E8F0FE;\n",
              "      --fill-color: #1967D2;\n",
              "      --hover-bg-color: #E2EBFA;\n",
              "      --hover-fill-color: #174EA6;\n",
              "      --disabled-fill-color: #AAA;\n",
              "      --disabled-bg-color: #DDD;\n",
              "  }\n",
              "\n",
              "  [theme=dark] .colab-df-quickchart {\n",
              "      --bg-color: #3B4455;\n",
              "      --fill-color: #D2E3FC;\n",
              "      --hover-bg-color: #434B5C;\n",
              "      --hover-fill-color: #FFFFFF;\n",
              "      --disabled-bg-color: #3B4455;\n",
              "      --disabled-fill-color: #666;\n",
              "  }\n",
              "\n",
              "  .colab-df-quickchart {\n",
              "    background-color: var(--bg-color);\n",
              "    border: none;\n",
              "    border-radius: 50%;\n",
              "    cursor: pointer;\n",
              "    display: none;\n",
              "    fill: var(--fill-color);\n",
              "    height: 32px;\n",
              "    padding: 0;\n",
              "    width: 32px;\n",
              "  }\n",
              "\n",
              "  .colab-df-quickchart:hover {\n",
              "    background-color: var(--hover-bg-color);\n",
              "    box-shadow: 0 1px 2px rgba(60, 64, 67, 0.3), 0 1px 3px 1px rgba(60, 64, 67, 0.15);\n",
              "    fill: var(--button-hover-fill-color);\n",
              "  }\n",
              "\n",
              "  .colab-df-quickchart-complete:disabled,\n",
              "  .colab-df-quickchart-complete:disabled:hover {\n",
              "    background-color: var(--disabled-bg-color);\n",
              "    fill: var(--disabled-fill-color);\n",
              "    box-shadow: none;\n",
              "  }\n",
              "\n",
              "  .colab-df-spinner {\n",
              "    border: 2px solid var(--fill-color);\n",
              "    border-color: transparent;\n",
              "    border-bottom-color: var(--fill-color);\n",
              "    animation:\n",
              "      spin 1s steps(1) infinite;\n",
              "  }\n",
              "\n",
              "  @keyframes spin {\n",
              "    0% {\n",
              "      border-color: transparent;\n",
              "      border-bottom-color: var(--fill-color);\n",
              "      border-left-color: var(--fill-color);\n",
              "    }\n",
              "    20% {\n",
              "      border-color: transparent;\n",
              "      border-left-color: var(--fill-color);\n",
              "      border-top-color: var(--fill-color);\n",
              "    }\n",
              "    30% {\n",
              "      border-color: transparent;\n",
              "      border-left-color: var(--fill-color);\n",
              "      border-top-color: var(--fill-color);\n",
              "      border-right-color: var(--fill-color);\n",
              "    }\n",
              "    40% {\n",
              "      border-color: transparent;\n",
              "      border-right-color: var(--fill-color);\n",
              "      border-top-color: var(--fill-color);\n",
              "    }\n",
              "    60% {\n",
              "      border-color: transparent;\n",
              "      border-right-color: var(--fill-color);\n",
              "    }\n",
              "    80% {\n",
              "      border-color: transparent;\n",
              "      border-right-color: var(--fill-color);\n",
              "      border-bottom-color: var(--fill-color);\n",
              "    }\n",
              "    90% {\n",
              "      border-color: transparent;\n",
              "      border-bottom-color: var(--fill-color);\n",
              "    }\n",
              "  }\n",
              "</style>\n",
              "\n",
              "      <script>\n",
              "        async function quickchart(key) {\n",
              "          const quickchartButtonEl =\n",
              "            document.querySelector('#' + key + ' button');\n",
              "          quickchartButtonEl.disabled = true;  // To prevent multiple clicks.\n",
              "          quickchartButtonEl.classList.add('colab-df-spinner');\n",
              "          try {\n",
              "            const charts = await google.colab.kernel.invokeFunction(\n",
              "                'suggestCharts', [key], {});\n",
              "          } catch (error) {\n",
              "            console.error('Error during call to suggestCharts:', error);\n",
              "          }\n",
              "          quickchartButtonEl.classList.remove('colab-df-spinner');\n",
              "          quickchartButtonEl.classList.add('colab-df-quickchart-complete');\n",
              "        }\n",
              "        (() => {\n",
              "          let quickchartButtonEl =\n",
              "            document.querySelector('#df-d538d544-6e76-455d-aafe-b596722c9c99 button');\n",
              "          quickchartButtonEl.style.display =\n",
              "            google.colab.kernel.accessAllowed ? 'block' : 'none';\n",
              "        })();\n",
              "      </script>\n",
              "    </div>\n",
              "\n",
              "    </div>\n",
              "  </div>\n"
            ],
            "application/vnd.google.colaboratory.intrinsic+json": {
              "type": "dataframe",
              "variable_name": "df"
            }
          },
          "metadata": {},
          "execution_count": 2
        }
      ],
      "source": [
        "# Import libraries\n",
        "import pandas as pd\n",
        "import numpy as np\n",
        "import matplotlib.pyplot as plt\n",
        "import seaborn as sns\n",
        "\n",
        "# Load dataset\n",
        "df = pd.read_csv('/content/AviationData.csv', encoding='latin1')\n",
        "\n",
        "# Preview first few rows\n",
        "df.head()"
      ]
    },
    {
      "cell_type": "markdown",
      "source": [
        "The dataset contains accident reports from 1962 to 2023, including fields like aircraft manufacturer, model, number of engines in the aircraft, and injury severity. The target focus is on accident severity and safety trends among manufacturers and aircraft types.\n"
      ],
      "metadata": {
        "id": "pQF4lU0vpjJS"
      }
    },
    {
      "cell_type": "markdown",
      "source": [
        "## Basic information about the dataset"
      ],
      "metadata": {
        "id": "TpMEEglV_fzQ"
      }
    },
    {
      "cell_type": "code",
      "source": [
        "print(\"\\nData Information:\")\n",
        "df.info()"
      ],
      "metadata": {
        "id": "4H5eRrFOCtNQ",
        "outputId": "786ff916-94c1-41f0-bd84-5722f019644f",
        "colab": {
          "base_uri": "https://localhost:8080/"
        }
      },
      "execution_count": 3,
      "outputs": [
        {
          "output_type": "stream",
          "name": "stdout",
          "text": [
            "\n",
            "Data Information:\n",
            "<class 'pandas.core.frame.DataFrame'>\n",
            "RangeIndex: 24693 entries, 0 to 24692\n",
            "Data columns (total 31 columns):\n",
            " #   Column                  Non-Null Count  Dtype  \n",
            "---  ------                  --------------  -----  \n",
            " 0   Event.Id                24693 non-null  object \n",
            " 1   Investigation.Type      24693 non-null  object \n",
            " 2   Accident.Number         24693 non-null  object \n",
            " 3   Event.Date              24693 non-null  object \n",
            " 4   Location                24686 non-null  object \n",
            " 5   Country                 24579 non-null  object \n",
            " 6   Latitude                7 non-null      float64\n",
            " 7   Longitude               7 non-null      float64\n",
            " 8   Airport.Code            12915 non-null  object \n",
            " 9   Airport.Name            14693 non-null  object \n",
            " 10  Injury.Severity         24693 non-null  object \n",
            " 11  Aircraft.damage         24142 non-null  object \n",
            " 12  Aircraft.Category       3627 non-null   object \n",
            " 13  Registration.Number     24688 non-null  object \n",
            " 14  Make                    24687 non-null  object \n",
            " 15  Model                   24676 non-null  object \n",
            " 16  Amateur.Built           24692 non-null  object \n",
            " 17  Number.of.Engines       24407 non-null  float64\n",
            " 18  Engine.Type             24689 non-null  object \n",
            " 19  FAR.Description         3627 non-null   object \n",
            " 20  Schedule                4053 non-null   object \n",
            " 21  Purpose.of.flight       24659 non-null  object \n",
            " 22  Air.carrier             1259 non-null   object \n",
            " 23  Total.Fatal.Injuries    24582 non-null  float64\n",
            " 24  Total.Serious.Injuries  24555 non-null  float64\n",
            " 25  Total.Minor.Injuries    24550 non-null  float64\n",
            " 26  Total.Uninjured         24605 non-null  float64\n",
            " 27  Weather.Condition       24691 non-null  object \n",
            " 28  Broad.phase.of.flight   24563 non-null  object \n",
            " 29  Report.Status           24693 non-null  object \n",
            " 30  Publication.Date        12249 non-null  object \n",
            "dtypes: float64(7), object(24)\n",
            "memory usage: 5.8+ MB\n"
          ]
        }
      ]
    },
    {
      "cell_type": "markdown",
      "source": [
        "## Displaying the number of rows and columns"
      ],
      "metadata": {
        "id": "-Oqz8Yya_vrr"
      }
    },
    {
      "cell_type": "code",
      "source": [
        "print(\"Shape of the dataset:\", df.shape)"
      ],
      "metadata": {
        "colab": {
          "base_uri": "https://localhost:8080/"
        },
        "id": "WN7MbNfZZcdc",
        "outputId": "577c0e84-bd0d-4da5-bdc6-e6ed56a08c8d"
      },
      "execution_count": 4,
      "outputs": [
        {
          "output_type": "stream",
          "name": "stdout",
          "text": [
            "Shape of the dataset: (24693, 31)\n"
          ]
        }
      ]
    },
    {
      "cell_type": "markdown",
      "source": [
        "## Statistical Summary"
      ],
      "metadata": {
        "id": "9r-wUTvj_XyE"
      }
    },
    {
      "cell_type": "code",
      "source": [
        "print(\"\\nSummary Statistics:\")\n",
        "df.describe(include='all')"
      ],
      "metadata": {
        "colab": {
          "base_uri": "https://localhost:8080/",
          "height": 495
        },
        "id": "ojYednHEYnO0",
        "outputId": "43cf7762-4d75-4824-efdb-4c616f3c75ab"
      },
      "execution_count": 5,
      "outputs": [
        {
          "output_type": "stream",
          "name": "stdout",
          "text": [
            "\n",
            "Summary Statistics:\n"
          ]
        },
        {
          "output_type": "execute_result",
          "data": {
            "text/plain": [
              "              Event.Id Investigation.Type Accident.Number  Event.Date  \\\n",
              "count            24693              24693           24693       24693   \n",
              "unique           24320                  2           24693        2922   \n",
              "top     20001214X45071           Accident      BFO90FA017  1982-05-16   \n",
              "freq                 3              23779               1          25   \n",
              "mean               NaN                NaN             NaN         NaN   \n",
              "std                NaN                NaN             NaN         NaN   \n",
              "min                NaN                NaN             NaN         NaN   \n",
              "25%                NaN                NaN             NaN         NaN   \n",
              "50%                NaN                NaN             NaN         NaN   \n",
              "75%                NaN                NaN             NaN         NaN   \n",
              "max                NaN                NaN             NaN         NaN   \n",
              "\n",
              "             Location        Country   Latitude   Longitude Airport.Code  \\\n",
              "count           24686          24579   7.000000    7.000000        12915   \n",
              "unique           9540             49        NaN         NaN         4540   \n",
              "top     ANCHORAGE, AK  United States        NaN         NaN         NONE   \n",
              "freq              179          24351        NaN         NaN          266   \n",
              "mean              NaN            NaN  41.282976 -104.947540          NaN   \n",
              "std               NaN            NaN   6.215394   34.987925          NaN   \n",
              "min               NaN            NaN  30.757778 -173.240000          NaN   \n",
              "25%               NaN            NaN  37.731111 -117.368611          NaN   \n",
              "50%               NaN            NaN  42.445277  -88.355555          NaN   \n",
              "75%               NaN            NaN  46.097777  -83.770834          NaN   \n",
              "max               NaN            NaN  48.120000  -70.758333          NaN   \n",
              "\n",
              "         Airport.Name  ... Purpose.of.flight        Air.carrier  \\\n",
              "count           14693  ...             24659               1259   \n",
              "unique           7913  ...                12               1034   \n",
              "top     PRIVATE STRIP  ...          Personal  American Airlines   \n",
              "freq               81  ...             13966                 24   \n",
              "mean              NaN  ...               NaN                NaN   \n",
              "std               NaN  ...               NaN                NaN   \n",
              "min               NaN  ...               NaN                NaN   \n",
              "25%               NaN  ...               NaN                NaN   \n",
              "50%               NaN  ...               NaN                NaN   \n",
              "75%               NaN  ...               NaN                NaN   \n",
              "max               NaN  ...               NaN                NaN   \n",
              "\n",
              "       Total.Fatal.Injuries Total.Serious.Injuries Total.Minor.Injuries  \\\n",
              "count          24582.000000           24555.000000         24550.000000   \n",
              "unique                  NaN                    NaN                  NaN   \n",
              "top                     NaN                    NaN                  NaN   \n",
              "freq                    NaN                    NaN                  NaN   \n",
              "mean               0.443210               0.204643             0.336497   \n",
              "std                3.705506               0.719940             1.548688   \n",
              "min                0.000000               0.000000             0.000000   \n",
              "25%                0.000000               0.000000             0.000000   \n",
              "50%                0.000000               0.000000             0.000000   \n",
              "75%                0.000000               0.000000             0.000000   \n",
              "max              270.000000              47.000000           125.000000   \n",
              "\n",
              "       Total.Uninjured Weather.Condition  Broad.phase.of.flight  \\\n",
              "count     24605.000000             24691                  24563   \n",
              "unique             NaN                 3                     12   \n",
              "top                NaN               VMC                Landing   \n",
              "freq               NaN             22262                   6008   \n",
              "mean          4.138183               NaN                    NaN   \n",
              "std          24.153929               NaN                    NaN   \n",
              "min           0.000000               NaN                    NaN   \n",
              "25%           0.000000               NaN                    NaN   \n",
              "50%           1.000000               NaN                    NaN   \n",
              "75%           2.000000               NaN                    NaN   \n",
              "max         588.000000               NaN                    NaN   \n",
              "\n",
              "         Report.Status Publication.Date  \n",
              "count            24693            12249  \n",
              "unique               5              665  \n",
              "top     Probable Cause       10-03-1988  \n",
              "freq             24584              260  \n",
              "mean               NaN              NaN  \n",
              "std                NaN              NaN  \n",
              "min                NaN              NaN  \n",
              "25%                NaN              NaN  \n",
              "50%                NaN              NaN  \n",
              "75%                NaN              NaN  \n",
              "max                NaN              NaN  \n",
              "\n",
              "[11 rows x 31 columns]"
            ],
            "text/html": [
              "\n",
              "  <div id=\"df-a40587b4-476c-4407-9699-b1d5d4d77877\" class=\"colab-df-container\">\n",
              "    <div>\n",
              "<style scoped>\n",
              "    .dataframe tbody tr th:only-of-type {\n",
              "        vertical-align: middle;\n",
              "    }\n",
              "\n",
              "    .dataframe tbody tr th {\n",
              "        vertical-align: top;\n",
              "    }\n",
              "\n",
              "    .dataframe thead th {\n",
              "        text-align: right;\n",
              "    }\n",
              "</style>\n",
              "<table border=\"1\" class=\"dataframe\">\n",
              "  <thead>\n",
              "    <tr style=\"text-align: right;\">\n",
              "      <th></th>\n",
              "      <th>Event.Id</th>\n",
              "      <th>Investigation.Type</th>\n",
              "      <th>Accident.Number</th>\n",
              "      <th>Event.Date</th>\n",
              "      <th>Location</th>\n",
              "      <th>Country</th>\n",
              "      <th>Latitude</th>\n",
              "      <th>Longitude</th>\n",
              "      <th>Airport.Code</th>\n",
              "      <th>Airport.Name</th>\n",
              "      <th>...</th>\n",
              "      <th>Purpose.of.flight</th>\n",
              "      <th>Air.carrier</th>\n",
              "      <th>Total.Fatal.Injuries</th>\n",
              "      <th>Total.Serious.Injuries</th>\n",
              "      <th>Total.Minor.Injuries</th>\n",
              "      <th>Total.Uninjured</th>\n",
              "      <th>Weather.Condition</th>\n",
              "      <th>Broad.phase.of.flight</th>\n",
              "      <th>Report.Status</th>\n",
              "      <th>Publication.Date</th>\n",
              "    </tr>\n",
              "  </thead>\n",
              "  <tbody>\n",
              "    <tr>\n",
              "      <th>count</th>\n",
              "      <td>24693</td>\n",
              "      <td>24693</td>\n",
              "      <td>24693</td>\n",
              "      <td>24693</td>\n",
              "      <td>24686</td>\n",
              "      <td>24579</td>\n",
              "      <td>7.000000</td>\n",
              "      <td>7.000000</td>\n",
              "      <td>12915</td>\n",
              "      <td>14693</td>\n",
              "      <td>...</td>\n",
              "      <td>24659</td>\n",
              "      <td>1259</td>\n",
              "      <td>24582.000000</td>\n",
              "      <td>24555.000000</td>\n",
              "      <td>24550.000000</td>\n",
              "      <td>24605.000000</td>\n",
              "      <td>24691</td>\n",
              "      <td>24563</td>\n",
              "      <td>24693</td>\n",
              "      <td>12249</td>\n",
              "    </tr>\n",
              "    <tr>\n",
              "      <th>unique</th>\n",
              "      <td>24320</td>\n",
              "      <td>2</td>\n",
              "      <td>24693</td>\n",
              "      <td>2922</td>\n",
              "      <td>9540</td>\n",
              "      <td>49</td>\n",
              "      <td>NaN</td>\n",
              "      <td>NaN</td>\n",
              "      <td>4540</td>\n",
              "      <td>7913</td>\n",
              "      <td>...</td>\n",
              "      <td>12</td>\n",
              "      <td>1034</td>\n",
              "      <td>NaN</td>\n",
              "      <td>NaN</td>\n",
              "      <td>NaN</td>\n",
              "      <td>NaN</td>\n",
              "      <td>3</td>\n",
              "      <td>12</td>\n",
              "      <td>5</td>\n",
              "      <td>665</td>\n",
              "    </tr>\n",
              "    <tr>\n",
              "      <th>top</th>\n",
              "      <td>20001214X45071</td>\n",
              "      <td>Accident</td>\n",
              "      <td>BFO90FA017</td>\n",
              "      <td>1982-05-16</td>\n",
              "      <td>ANCHORAGE, AK</td>\n",
              "      <td>United States</td>\n",
              "      <td>NaN</td>\n",
              "      <td>NaN</td>\n",
              "      <td>NONE</td>\n",
              "      <td>PRIVATE STRIP</td>\n",
              "      <td>...</td>\n",
              "      <td>Personal</td>\n",
              "      <td>American Airlines</td>\n",
              "      <td>NaN</td>\n",
              "      <td>NaN</td>\n",
              "      <td>NaN</td>\n",
              "      <td>NaN</td>\n",
              "      <td>VMC</td>\n",
              "      <td>Landing</td>\n",
              "      <td>Probable Cause</td>\n",
              "      <td>10-03-1988</td>\n",
              "    </tr>\n",
              "    <tr>\n",
              "      <th>freq</th>\n",
              "      <td>3</td>\n",
              "      <td>23779</td>\n",
              "      <td>1</td>\n",
              "      <td>25</td>\n",
              "      <td>179</td>\n",
              "      <td>24351</td>\n",
              "      <td>NaN</td>\n",
              "      <td>NaN</td>\n",
              "      <td>266</td>\n",
              "      <td>81</td>\n",
              "      <td>...</td>\n",
              "      <td>13966</td>\n",
              "      <td>24</td>\n",
              "      <td>NaN</td>\n",
              "      <td>NaN</td>\n",
              "      <td>NaN</td>\n",
              "      <td>NaN</td>\n",
              "      <td>22262</td>\n",
              "      <td>6008</td>\n",
              "      <td>24584</td>\n",
              "      <td>260</td>\n",
              "    </tr>\n",
              "    <tr>\n",
              "      <th>mean</th>\n",
              "      <td>NaN</td>\n",
              "      <td>NaN</td>\n",
              "      <td>NaN</td>\n",
              "      <td>NaN</td>\n",
              "      <td>NaN</td>\n",
              "      <td>NaN</td>\n",
              "      <td>41.282976</td>\n",
              "      <td>-104.947540</td>\n",
              "      <td>NaN</td>\n",
              "      <td>NaN</td>\n",
              "      <td>...</td>\n",
              "      <td>NaN</td>\n",
              "      <td>NaN</td>\n",
              "      <td>0.443210</td>\n",
              "      <td>0.204643</td>\n",
              "      <td>0.336497</td>\n",
              "      <td>4.138183</td>\n",
              "      <td>NaN</td>\n",
              "      <td>NaN</td>\n",
              "      <td>NaN</td>\n",
              "      <td>NaN</td>\n",
              "    </tr>\n",
              "    <tr>\n",
              "      <th>std</th>\n",
              "      <td>NaN</td>\n",
              "      <td>NaN</td>\n",
              "      <td>NaN</td>\n",
              "      <td>NaN</td>\n",
              "      <td>NaN</td>\n",
              "      <td>NaN</td>\n",
              "      <td>6.215394</td>\n",
              "      <td>34.987925</td>\n",
              "      <td>NaN</td>\n",
              "      <td>NaN</td>\n",
              "      <td>...</td>\n",
              "      <td>NaN</td>\n",
              "      <td>NaN</td>\n",
              "      <td>3.705506</td>\n",
              "      <td>0.719940</td>\n",
              "      <td>1.548688</td>\n",
              "      <td>24.153929</td>\n",
              "      <td>NaN</td>\n",
              "      <td>NaN</td>\n",
              "      <td>NaN</td>\n",
              "      <td>NaN</td>\n",
              "    </tr>\n",
              "    <tr>\n",
              "      <th>min</th>\n",
              "      <td>NaN</td>\n",
              "      <td>NaN</td>\n",
              "      <td>NaN</td>\n",
              "      <td>NaN</td>\n",
              "      <td>NaN</td>\n",
              "      <td>NaN</td>\n",
              "      <td>30.757778</td>\n",
              "      <td>-173.240000</td>\n",
              "      <td>NaN</td>\n",
              "      <td>NaN</td>\n",
              "      <td>...</td>\n",
              "      <td>NaN</td>\n",
              "      <td>NaN</td>\n",
              "      <td>0.000000</td>\n",
              "      <td>0.000000</td>\n",
              "      <td>0.000000</td>\n",
              "      <td>0.000000</td>\n",
              "      <td>NaN</td>\n",
              "      <td>NaN</td>\n",
              "      <td>NaN</td>\n",
              "      <td>NaN</td>\n",
              "    </tr>\n",
              "    <tr>\n",
              "      <th>25%</th>\n",
              "      <td>NaN</td>\n",
              "      <td>NaN</td>\n",
              "      <td>NaN</td>\n",
              "      <td>NaN</td>\n",
              "      <td>NaN</td>\n",
              "      <td>NaN</td>\n",
              "      <td>37.731111</td>\n",
              "      <td>-117.368611</td>\n",
              "      <td>NaN</td>\n",
              "      <td>NaN</td>\n",
              "      <td>...</td>\n",
              "      <td>NaN</td>\n",
              "      <td>NaN</td>\n",
              "      <td>0.000000</td>\n",
              "      <td>0.000000</td>\n",
              "      <td>0.000000</td>\n",
              "      <td>0.000000</td>\n",
              "      <td>NaN</td>\n",
              "      <td>NaN</td>\n",
              "      <td>NaN</td>\n",
              "      <td>NaN</td>\n",
              "    </tr>\n",
              "    <tr>\n",
              "      <th>50%</th>\n",
              "      <td>NaN</td>\n",
              "      <td>NaN</td>\n",
              "      <td>NaN</td>\n",
              "      <td>NaN</td>\n",
              "      <td>NaN</td>\n",
              "      <td>NaN</td>\n",
              "      <td>42.445277</td>\n",
              "      <td>-88.355555</td>\n",
              "      <td>NaN</td>\n",
              "      <td>NaN</td>\n",
              "      <td>...</td>\n",
              "      <td>NaN</td>\n",
              "      <td>NaN</td>\n",
              "      <td>0.000000</td>\n",
              "      <td>0.000000</td>\n",
              "      <td>0.000000</td>\n",
              "      <td>1.000000</td>\n",
              "      <td>NaN</td>\n",
              "      <td>NaN</td>\n",
              "      <td>NaN</td>\n",
              "      <td>NaN</td>\n",
              "    </tr>\n",
              "    <tr>\n",
              "      <th>75%</th>\n",
              "      <td>NaN</td>\n",
              "      <td>NaN</td>\n",
              "      <td>NaN</td>\n",
              "      <td>NaN</td>\n",
              "      <td>NaN</td>\n",
              "      <td>NaN</td>\n",
              "      <td>46.097777</td>\n",
              "      <td>-83.770834</td>\n",
              "      <td>NaN</td>\n",
              "      <td>NaN</td>\n",
              "      <td>...</td>\n",
              "      <td>NaN</td>\n",
              "      <td>NaN</td>\n",
              "      <td>0.000000</td>\n",
              "      <td>0.000000</td>\n",
              "      <td>0.000000</td>\n",
              "      <td>2.000000</td>\n",
              "      <td>NaN</td>\n",
              "      <td>NaN</td>\n",
              "      <td>NaN</td>\n",
              "      <td>NaN</td>\n",
              "    </tr>\n",
              "    <tr>\n",
              "      <th>max</th>\n",
              "      <td>NaN</td>\n",
              "      <td>NaN</td>\n",
              "      <td>NaN</td>\n",
              "      <td>NaN</td>\n",
              "      <td>NaN</td>\n",
              "      <td>NaN</td>\n",
              "      <td>48.120000</td>\n",
              "      <td>-70.758333</td>\n",
              "      <td>NaN</td>\n",
              "      <td>NaN</td>\n",
              "      <td>...</td>\n",
              "      <td>NaN</td>\n",
              "      <td>NaN</td>\n",
              "      <td>270.000000</td>\n",
              "      <td>47.000000</td>\n",
              "      <td>125.000000</td>\n",
              "      <td>588.000000</td>\n",
              "      <td>NaN</td>\n",
              "      <td>NaN</td>\n",
              "      <td>NaN</td>\n",
              "      <td>NaN</td>\n",
              "    </tr>\n",
              "  </tbody>\n",
              "</table>\n",
              "<p>11 rows × 31 columns</p>\n",
              "</div>\n",
              "    <div class=\"colab-df-buttons\">\n",
              "\n",
              "  <div class=\"colab-df-container\">\n",
              "    <button class=\"colab-df-convert\" onclick=\"convertToInteractive('df-a40587b4-476c-4407-9699-b1d5d4d77877')\"\n",
              "            title=\"Convert this dataframe to an interactive table.\"\n",
              "            style=\"display:none;\">\n",
              "\n",
              "  <svg xmlns=\"http://www.w3.org/2000/svg\" height=\"24px\" viewBox=\"0 -960 960 960\">\n",
              "    <path d=\"M120-120v-720h720v720H120Zm60-500h600v-160H180v160Zm220 220h160v-160H400v160Zm0 220h160v-160H400v160ZM180-400h160v-160H180v160Zm440 0h160v-160H620v160ZM180-180h160v-160H180v160Zm440 0h160v-160H620v160Z\"/>\n",
              "  </svg>\n",
              "    </button>\n",
              "\n",
              "  <style>\n",
              "    .colab-df-container {\n",
              "      display:flex;\n",
              "      gap: 12px;\n",
              "    }\n",
              "\n",
              "    .colab-df-convert {\n",
              "      background-color: #E8F0FE;\n",
              "      border: none;\n",
              "      border-radius: 50%;\n",
              "      cursor: pointer;\n",
              "      display: none;\n",
              "      fill: #1967D2;\n",
              "      height: 32px;\n",
              "      padding: 0 0 0 0;\n",
              "      width: 32px;\n",
              "    }\n",
              "\n",
              "    .colab-df-convert:hover {\n",
              "      background-color: #E2EBFA;\n",
              "      box-shadow: 0px 1px 2px rgba(60, 64, 67, 0.3), 0px 1px 3px 1px rgba(60, 64, 67, 0.15);\n",
              "      fill: #174EA6;\n",
              "    }\n",
              "\n",
              "    .colab-df-buttons div {\n",
              "      margin-bottom: 4px;\n",
              "    }\n",
              "\n",
              "    [theme=dark] .colab-df-convert {\n",
              "      background-color: #3B4455;\n",
              "      fill: #D2E3FC;\n",
              "    }\n",
              "\n",
              "    [theme=dark] .colab-df-convert:hover {\n",
              "      background-color: #434B5C;\n",
              "      box-shadow: 0px 1px 3px 1px rgba(0, 0, 0, 0.15);\n",
              "      filter: drop-shadow(0px 1px 2px rgba(0, 0, 0, 0.3));\n",
              "      fill: #FFFFFF;\n",
              "    }\n",
              "  </style>\n",
              "\n",
              "    <script>\n",
              "      const buttonEl =\n",
              "        document.querySelector('#df-a40587b4-476c-4407-9699-b1d5d4d77877 button.colab-df-convert');\n",
              "      buttonEl.style.display =\n",
              "        google.colab.kernel.accessAllowed ? 'block' : 'none';\n",
              "\n",
              "      async function convertToInteractive(key) {\n",
              "        const element = document.querySelector('#df-a40587b4-476c-4407-9699-b1d5d4d77877');\n",
              "        const dataTable =\n",
              "          await google.colab.kernel.invokeFunction('convertToInteractive',\n",
              "                                                    [key], {});\n",
              "        if (!dataTable) return;\n",
              "\n",
              "        const docLinkHtml = 'Like what you see? Visit the ' +\n",
              "          '<a target=\"_blank\" href=https://colab.research.google.com/notebooks/data_table.ipynb>data table notebook</a>'\n",
              "          + ' to learn more about interactive tables.';\n",
              "        element.innerHTML = '';\n",
              "        dataTable['output_type'] = 'display_data';\n",
              "        await google.colab.output.renderOutput(dataTable, element);\n",
              "        const docLink = document.createElement('div');\n",
              "        docLink.innerHTML = docLinkHtml;\n",
              "        element.appendChild(docLink);\n",
              "      }\n",
              "    </script>\n",
              "  </div>\n",
              "\n",
              "\n",
              "    <div id=\"df-e97adbf4-c34c-41e8-aa90-bf612d17c0a9\">\n",
              "      <button class=\"colab-df-quickchart\" onclick=\"quickchart('df-e97adbf4-c34c-41e8-aa90-bf612d17c0a9')\"\n",
              "                title=\"Suggest charts\"\n",
              "                style=\"display:none;\">\n",
              "\n",
              "<svg xmlns=\"http://www.w3.org/2000/svg\" height=\"24px\"viewBox=\"0 0 24 24\"\n",
              "     width=\"24px\">\n",
              "    <g>\n",
              "        <path d=\"M19 3H5c-1.1 0-2 .9-2 2v14c0 1.1.9 2 2 2h14c1.1 0 2-.9 2-2V5c0-1.1-.9-2-2-2zM9 17H7v-7h2v7zm4 0h-2V7h2v10zm4 0h-2v-4h2v4z\"/>\n",
              "    </g>\n",
              "</svg>\n",
              "      </button>\n",
              "\n",
              "<style>\n",
              "  .colab-df-quickchart {\n",
              "      --bg-color: #E8F0FE;\n",
              "      --fill-color: #1967D2;\n",
              "      --hover-bg-color: #E2EBFA;\n",
              "      --hover-fill-color: #174EA6;\n",
              "      --disabled-fill-color: #AAA;\n",
              "      --disabled-bg-color: #DDD;\n",
              "  }\n",
              "\n",
              "  [theme=dark] .colab-df-quickchart {\n",
              "      --bg-color: #3B4455;\n",
              "      --fill-color: #D2E3FC;\n",
              "      --hover-bg-color: #434B5C;\n",
              "      --hover-fill-color: #FFFFFF;\n",
              "      --disabled-bg-color: #3B4455;\n",
              "      --disabled-fill-color: #666;\n",
              "  }\n",
              "\n",
              "  .colab-df-quickchart {\n",
              "    background-color: var(--bg-color);\n",
              "    border: none;\n",
              "    border-radius: 50%;\n",
              "    cursor: pointer;\n",
              "    display: none;\n",
              "    fill: var(--fill-color);\n",
              "    height: 32px;\n",
              "    padding: 0;\n",
              "    width: 32px;\n",
              "  }\n",
              "\n",
              "  .colab-df-quickchart:hover {\n",
              "    background-color: var(--hover-bg-color);\n",
              "    box-shadow: 0 1px 2px rgba(60, 64, 67, 0.3), 0 1px 3px 1px rgba(60, 64, 67, 0.15);\n",
              "    fill: var(--button-hover-fill-color);\n",
              "  }\n",
              "\n",
              "  .colab-df-quickchart-complete:disabled,\n",
              "  .colab-df-quickchart-complete:disabled:hover {\n",
              "    background-color: var(--disabled-bg-color);\n",
              "    fill: var(--disabled-fill-color);\n",
              "    box-shadow: none;\n",
              "  }\n",
              "\n",
              "  .colab-df-spinner {\n",
              "    border: 2px solid var(--fill-color);\n",
              "    border-color: transparent;\n",
              "    border-bottom-color: var(--fill-color);\n",
              "    animation:\n",
              "      spin 1s steps(1) infinite;\n",
              "  }\n",
              "\n",
              "  @keyframes spin {\n",
              "    0% {\n",
              "      border-color: transparent;\n",
              "      border-bottom-color: var(--fill-color);\n",
              "      border-left-color: var(--fill-color);\n",
              "    }\n",
              "    20% {\n",
              "      border-color: transparent;\n",
              "      border-left-color: var(--fill-color);\n",
              "      border-top-color: var(--fill-color);\n",
              "    }\n",
              "    30% {\n",
              "      border-color: transparent;\n",
              "      border-left-color: var(--fill-color);\n",
              "      border-top-color: var(--fill-color);\n",
              "      border-right-color: var(--fill-color);\n",
              "    }\n",
              "    40% {\n",
              "      border-color: transparent;\n",
              "      border-right-color: var(--fill-color);\n",
              "      border-top-color: var(--fill-color);\n",
              "    }\n",
              "    60% {\n",
              "      border-color: transparent;\n",
              "      border-right-color: var(--fill-color);\n",
              "    }\n",
              "    80% {\n",
              "      border-color: transparent;\n",
              "      border-right-color: var(--fill-color);\n",
              "      border-bottom-color: var(--fill-color);\n",
              "    }\n",
              "    90% {\n",
              "      border-color: transparent;\n",
              "      border-bottom-color: var(--fill-color);\n",
              "    }\n",
              "  }\n",
              "</style>\n",
              "\n",
              "      <script>\n",
              "        async function quickchart(key) {\n",
              "          const quickchartButtonEl =\n",
              "            document.querySelector('#' + key + ' button');\n",
              "          quickchartButtonEl.disabled = true;  // To prevent multiple clicks.\n",
              "          quickchartButtonEl.classList.add('colab-df-spinner');\n",
              "          try {\n",
              "            const charts = await google.colab.kernel.invokeFunction(\n",
              "                'suggestCharts', [key], {});\n",
              "          } catch (error) {\n",
              "            console.error('Error during call to suggestCharts:', error);\n",
              "          }\n",
              "          quickchartButtonEl.classList.remove('colab-df-spinner');\n",
              "          quickchartButtonEl.classList.add('colab-df-quickchart-complete');\n",
              "        }\n",
              "        (() => {\n",
              "          let quickchartButtonEl =\n",
              "            document.querySelector('#df-e97adbf4-c34c-41e8-aa90-bf612d17c0a9 button');\n",
              "          quickchartButtonEl.style.display =\n",
              "            google.colab.kernel.accessAllowed ? 'block' : 'none';\n",
              "        })();\n",
              "      </script>\n",
              "    </div>\n",
              "\n",
              "    </div>\n",
              "  </div>\n"
            ],
            "application/vnd.google.colaboratory.intrinsic+json": {
              "type": "dataframe"
            }
          },
          "metadata": {},
          "execution_count": 5
        }
      ]
    },
    {
      "cell_type": "markdown",
      "source": [
        "## Data Preparation\n",
        "\n",
        "I cleaned the dataset by dropping irrelevant columns, handling missing values through removal or forward-filling, and standardizing categorical data. These steps ensured the dataset was reliable and focused on key factors related to aircraft safety and risk assessment."
      ],
      "metadata": {
        "id": "GLYwtzR9iDxO"
      }
    },
    {
      "cell_type": "markdown",
      "source": [
        "## Checking for missing values"
      ],
      "metadata": {
        "id": "zzDAFiaJYwH1"
      }
    },
    {
      "cell_type": "code",
      "source": [
        "missing_values = df.isnull().sum()\n",
        "missing_values = missing_values[missing_values > 0]\n",
        "print(\"\\nMissing Values:\\n\", missing_values)"
      ],
      "metadata": {
        "colab": {
          "base_uri": "https://localhost:8080/"
        },
        "id": "EWKnt2cWYzNP",
        "outputId": "4e1eef2d-31c3-4bb0-e16e-bc78c28464b9"
      },
      "execution_count": 6,
      "outputs": [
        {
          "output_type": "stream",
          "name": "stdout",
          "text": [
            "\n",
            "Missing Values:\n",
            " Location                      7\n",
            "Country                     114\n",
            "Latitude                  24686\n",
            "Longitude                 24686\n",
            "Airport.Code              11778\n",
            "Airport.Name              10000\n",
            "Aircraft.damage             551\n",
            "Aircraft.Category         21066\n",
            "Registration.Number           5\n",
            "Make                          6\n",
            "Model                        17\n",
            "Amateur.Built                 1\n",
            "Number.of.Engines           286\n",
            "Engine.Type                   4\n",
            "FAR.Description           21066\n",
            "Schedule                  20640\n",
            "Purpose.of.flight            34\n",
            "Air.carrier               23434\n",
            "Total.Fatal.Injuries        111\n",
            "Total.Serious.Injuries      138\n",
            "Total.Minor.Injuries        143\n",
            "Total.Uninjured              88\n",
            "Weather.Condition             2\n",
            "Broad.phase.of.flight       130\n",
            "Publication.Date          12444\n",
            "dtype: int64\n"
          ]
        }
      ]
    },
    {
      "cell_type": "markdown",
      "source": [
        "### Dropping columns with more than 30% missing values"
      ],
      "metadata": {
        "id": "Fw8rSNY5Ass6"
      }
    },
    {
      "cell_type": "code",
      "source": [
        "threshold = len(df) * 0.3\n",
        "cols_to_drop = missing_values[missing_values > threshold].index\n",
        "df = df.drop(columns=cols_to_drop, errors='ignore')"
      ],
      "metadata": {
        "id": "OgNC5N44aj_R"
      },
      "execution_count": 7,
      "outputs": []
    },
    {
      "cell_type": "markdown",
      "source": [
        "## Dropping irrelevant columns manually"
      ],
      "metadata": {
        "id": "Jx5qKkiMPV52"
      }
    },
    {
      "cell_type": "code",
      "source": [
        "df = df.drop(['Location', 'Country', 'Publication_Date','Report_Status',\n",
        "              'Aircraft_Category',  'Broad_phase_of_flight','Schedule', 'Air_carrier',\n",
        "              'FAR_Description', 'Longitude', 'Latitude', 'Airport_Code', 'Airport_Name'], axis=1, errors='ignore')\n",
        "df.head()"
      ],
      "metadata": {
        "colab": {
          "base_uri": "https://localhost:8080/",
          "height": 313
        },
        "id": "ParNonMZPU7s",
        "outputId": "34d42466-5a31-484f-9750-8aed7bae2697"
      },
      "execution_count": 8,
      "outputs": [
        {
          "output_type": "execute_result",
          "data": {
            "text/plain": [
              "         Event.Id Investigation.Type Accident.Number  Event.Date  \\\n",
              "0  20001218X45444           Accident      SEA87LA080  1948-10-24   \n",
              "1  20001218X45447           Accident      LAX94LA336  1962-07-19   \n",
              "2  20061025X01555           Accident      NYC07LA005  1974-08-30   \n",
              "3  20001218X45448           Accident      LAX96LA321  1977-06-19   \n",
              "4  20041105X01764           Accident      CHI79FA064  1979-08-02   \n",
              "\n",
              "  Injury.Severity Aircraft.damage Registration.Number      Make     Model  \\\n",
              "0        Fatal(2)       Destroyed              NC6404   Stinson     108-3   \n",
              "1        Fatal(4)       Destroyed              N5069P     Piper  PA24-180   \n",
              "2        Fatal(3)       Destroyed              N5142R    Cessna      172M   \n",
              "3        Fatal(2)       Destroyed              N1168J  Rockwell       112   \n",
              "4        Fatal(1)       Destroyed               N15NY    Cessna       501   \n",
              "\n",
              "  Amateur.Built  Number.of.Engines    Engine.Type Purpose.of.flight  \\\n",
              "0            No                1.0  Reciprocating          Personal   \n",
              "1            No                1.0  Reciprocating          Personal   \n",
              "2            No                1.0  Reciprocating          Personal   \n",
              "3            No                1.0  Reciprocating          Personal   \n",
              "4            No                NaN            NaN          Personal   \n",
              "\n",
              "   Total.Fatal.Injuries  Total.Serious.Injuries  Total.Minor.Injuries  \\\n",
              "0                   2.0                     0.0                   0.0   \n",
              "1                   4.0                     0.0                   0.0   \n",
              "2                   3.0                     NaN                   NaN   \n",
              "3                   2.0                     0.0                   0.0   \n",
              "4                   1.0                     2.0                   NaN   \n",
              "\n",
              "   Total.Uninjured Weather.Condition Broad.phase.of.flight   Report.Status  \n",
              "0              0.0               UNK                Cruise  Probable Cause  \n",
              "1              0.0               UNK               Unknown  Probable Cause  \n",
              "2              NaN               IMC                Cruise  Probable Cause  \n",
              "3              0.0               IMC                Cruise  Probable Cause  \n",
              "4              0.0               VMC              Approach  Probable Cause  "
            ],
            "text/html": [
              "\n",
              "  <div id=\"df-fb52e9a6-2da7-44b2-823d-cc9121c6c9cc\" class=\"colab-df-container\">\n",
              "    <div>\n",
              "<style scoped>\n",
              "    .dataframe tbody tr th:only-of-type {\n",
              "        vertical-align: middle;\n",
              "    }\n",
              "\n",
              "    .dataframe tbody tr th {\n",
              "        vertical-align: top;\n",
              "    }\n",
              "\n",
              "    .dataframe thead th {\n",
              "        text-align: right;\n",
              "    }\n",
              "</style>\n",
              "<table border=\"1\" class=\"dataframe\">\n",
              "  <thead>\n",
              "    <tr style=\"text-align: right;\">\n",
              "      <th></th>\n",
              "      <th>Event.Id</th>\n",
              "      <th>Investigation.Type</th>\n",
              "      <th>Accident.Number</th>\n",
              "      <th>Event.Date</th>\n",
              "      <th>Injury.Severity</th>\n",
              "      <th>Aircraft.damage</th>\n",
              "      <th>Registration.Number</th>\n",
              "      <th>Make</th>\n",
              "      <th>Model</th>\n",
              "      <th>Amateur.Built</th>\n",
              "      <th>Number.of.Engines</th>\n",
              "      <th>Engine.Type</th>\n",
              "      <th>Purpose.of.flight</th>\n",
              "      <th>Total.Fatal.Injuries</th>\n",
              "      <th>Total.Serious.Injuries</th>\n",
              "      <th>Total.Minor.Injuries</th>\n",
              "      <th>Total.Uninjured</th>\n",
              "      <th>Weather.Condition</th>\n",
              "      <th>Broad.phase.of.flight</th>\n",
              "      <th>Report.Status</th>\n",
              "    </tr>\n",
              "  </thead>\n",
              "  <tbody>\n",
              "    <tr>\n",
              "      <th>0</th>\n",
              "      <td>20001218X45444</td>\n",
              "      <td>Accident</td>\n",
              "      <td>SEA87LA080</td>\n",
              "      <td>1948-10-24</td>\n",
              "      <td>Fatal(2)</td>\n",
              "      <td>Destroyed</td>\n",
              "      <td>NC6404</td>\n",
              "      <td>Stinson</td>\n",
              "      <td>108-3</td>\n",
              "      <td>No</td>\n",
              "      <td>1.0</td>\n",
              "      <td>Reciprocating</td>\n",
              "      <td>Personal</td>\n",
              "      <td>2.0</td>\n",
              "      <td>0.0</td>\n",
              "      <td>0.0</td>\n",
              "      <td>0.0</td>\n",
              "      <td>UNK</td>\n",
              "      <td>Cruise</td>\n",
              "      <td>Probable Cause</td>\n",
              "    </tr>\n",
              "    <tr>\n",
              "      <th>1</th>\n",
              "      <td>20001218X45447</td>\n",
              "      <td>Accident</td>\n",
              "      <td>LAX94LA336</td>\n",
              "      <td>1962-07-19</td>\n",
              "      <td>Fatal(4)</td>\n",
              "      <td>Destroyed</td>\n",
              "      <td>N5069P</td>\n",
              "      <td>Piper</td>\n",
              "      <td>PA24-180</td>\n",
              "      <td>No</td>\n",
              "      <td>1.0</td>\n",
              "      <td>Reciprocating</td>\n",
              "      <td>Personal</td>\n",
              "      <td>4.0</td>\n",
              "      <td>0.0</td>\n",
              "      <td>0.0</td>\n",
              "      <td>0.0</td>\n",
              "      <td>UNK</td>\n",
              "      <td>Unknown</td>\n",
              "      <td>Probable Cause</td>\n",
              "    </tr>\n",
              "    <tr>\n",
              "      <th>2</th>\n",
              "      <td>20061025X01555</td>\n",
              "      <td>Accident</td>\n",
              "      <td>NYC07LA005</td>\n",
              "      <td>1974-08-30</td>\n",
              "      <td>Fatal(3)</td>\n",
              "      <td>Destroyed</td>\n",
              "      <td>N5142R</td>\n",
              "      <td>Cessna</td>\n",
              "      <td>172M</td>\n",
              "      <td>No</td>\n",
              "      <td>1.0</td>\n",
              "      <td>Reciprocating</td>\n",
              "      <td>Personal</td>\n",
              "      <td>3.0</td>\n",
              "      <td>NaN</td>\n",
              "      <td>NaN</td>\n",
              "      <td>NaN</td>\n",
              "      <td>IMC</td>\n",
              "      <td>Cruise</td>\n",
              "      <td>Probable Cause</td>\n",
              "    </tr>\n",
              "    <tr>\n",
              "      <th>3</th>\n",
              "      <td>20001218X45448</td>\n",
              "      <td>Accident</td>\n",
              "      <td>LAX96LA321</td>\n",
              "      <td>1977-06-19</td>\n",
              "      <td>Fatal(2)</td>\n",
              "      <td>Destroyed</td>\n",
              "      <td>N1168J</td>\n",
              "      <td>Rockwell</td>\n",
              "      <td>112</td>\n",
              "      <td>No</td>\n",
              "      <td>1.0</td>\n",
              "      <td>Reciprocating</td>\n",
              "      <td>Personal</td>\n",
              "      <td>2.0</td>\n",
              "      <td>0.0</td>\n",
              "      <td>0.0</td>\n",
              "      <td>0.0</td>\n",
              "      <td>IMC</td>\n",
              "      <td>Cruise</td>\n",
              "      <td>Probable Cause</td>\n",
              "    </tr>\n",
              "    <tr>\n",
              "      <th>4</th>\n",
              "      <td>20041105X01764</td>\n",
              "      <td>Accident</td>\n",
              "      <td>CHI79FA064</td>\n",
              "      <td>1979-08-02</td>\n",
              "      <td>Fatal(1)</td>\n",
              "      <td>Destroyed</td>\n",
              "      <td>N15NY</td>\n",
              "      <td>Cessna</td>\n",
              "      <td>501</td>\n",
              "      <td>No</td>\n",
              "      <td>NaN</td>\n",
              "      <td>NaN</td>\n",
              "      <td>Personal</td>\n",
              "      <td>1.0</td>\n",
              "      <td>2.0</td>\n",
              "      <td>NaN</td>\n",
              "      <td>0.0</td>\n",
              "      <td>VMC</td>\n",
              "      <td>Approach</td>\n",
              "      <td>Probable Cause</td>\n",
              "    </tr>\n",
              "  </tbody>\n",
              "</table>\n",
              "</div>\n",
              "    <div class=\"colab-df-buttons\">\n",
              "\n",
              "  <div class=\"colab-df-container\">\n",
              "    <button class=\"colab-df-convert\" onclick=\"convertToInteractive('df-fb52e9a6-2da7-44b2-823d-cc9121c6c9cc')\"\n",
              "            title=\"Convert this dataframe to an interactive table.\"\n",
              "            style=\"display:none;\">\n",
              "\n",
              "  <svg xmlns=\"http://www.w3.org/2000/svg\" height=\"24px\" viewBox=\"0 -960 960 960\">\n",
              "    <path d=\"M120-120v-720h720v720H120Zm60-500h600v-160H180v160Zm220 220h160v-160H400v160Zm0 220h160v-160H400v160ZM180-400h160v-160H180v160Zm440 0h160v-160H620v160ZM180-180h160v-160H180v160Zm440 0h160v-160H620v160Z\"/>\n",
              "  </svg>\n",
              "    </button>\n",
              "\n",
              "  <style>\n",
              "    .colab-df-container {\n",
              "      display:flex;\n",
              "      gap: 12px;\n",
              "    }\n",
              "\n",
              "    .colab-df-convert {\n",
              "      background-color: #E8F0FE;\n",
              "      border: none;\n",
              "      border-radius: 50%;\n",
              "      cursor: pointer;\n",
              "      display: none;\n",
              "      fill: #1967D2;\n",
              "      height: 32px;\n",
              "      padding: 0 0 0 0;\n",
              "      width: 32px;\n",
              "    }\n",
              "\n",
              "    .colab-df-convert:hover {\n",
              "      background-color: #E2EBFA;\n",
              "      box-shadow: 0px 1px 2px rgba(60, 64, 67, 0.3), 0px 1px 3px 1px rgba(60, 64, 67, 0.15);\n",
              "      fill: #174EA6;\n",
              "    }\n",
              "\n",
              "    .colab-df-buttons div {\n",
              "      margin-bottom: 4px;\n",
              "    }\n",
              "\n",
              "    [theme=dark] .colab-df-convert {\n",
              "      background-color: #3B4455;\n",
              "      fill: #D2E3FC;\n",
              "    }\n",
              "\n",
              "    [theme=dark] .colab-df-convert:hover {\n",
              "      background-color: #434B5C;\n",
              "      box-shadow: 0px 1px 3px 1px rgba(0, 0, 0, 0.15);\n",
              "      filter: drop-shadow(0px 1px 2px rgba(0, 0, 0, 0.3));\n",
              "      fill: #FFFFFF;\n",
              "    }\n",
              "  </style>\n",
              "\n",
              "    <script>\n",
              "      const buttonEl =\n",
              "        document.querySelector('#df-fb52e9a6-2da7-44b2-823d-cc9121c6c9cc button.colab-df-convert');\n",
              "      buttonEl.style.display =\n",
              "        google.colab.kernel.accessAllowed ? 'block' : 'none';\n",
              "\n",
              "      async function convertToInteractive(key) {\n",
              "        const element = document.querySelector('#df-fb52e9a6-2da7-44b2-823d-cc9121c6c9cc');\n",
              "        const dataTable =\n",
              "          await google.colab.kernel.invokeFunction('convertToInteractive',\n",
              "                                                    [key], {});\n",
              "        if (!dataTable) return;\n",
              "\n",
              "        const docLinkHtml = 'Like what you see? Visit the ' +\n",
              "          '<a target=\"_blank\" href=https://colab.research.google.com/notebooks/data_table.ipynb>data table notebook</a>'\n",
              "          + ' to learn more about interactive tables.';\n",
              "        element.innerHTML = '';\n",
              "        dataTable['output_type'] = 'display_data';\n",
              "        await google.colab.output.renderOutput(dataTable, element);\n",
              "        const docLink = document.createElement('div');\n",
              "        docLink.innerHTML = docLinkHtml;\n",
              "        element.appendChild(docLink);\n",
              "      }\n",
              "    </script>\n",
              "  </div>\n",
              "\n",
              "\n",
              "    <div id=\"df-e67529bd-8e48-49f4-96ad-c775cfec348c\">\n",
              "      <button class=\"colab-df-quickchart\" onclick=\"quickchart('df-e67529bd-8e48-49f4-96ad-c775cfec348c')\"\n",
              "                title=\"Suggest charts\"\n",
              "                style=\"display:none;\">\n",
              "\n",
              "<svg xmlns=\"http://www.w3.org/2000/svg\" height=\"24px\"viewBox=\"0 0 24 24\"\n",
              "     width=\"24px\">\n",
              "    <g>\n",
              "        <path d=\"M19 3H5c-1.1 0-2 .9-2 2v14c0 1.1.9 2 2 2h14c1.1 0 2-.9 2-2V5c0-1.1-.9-2-2-2zM9 17H7v-7h2v7zm4 0h-2V7h2v10zm4 0h-2v-4h2v4z\"/>\n",
              "    </g>\n",
              "</svg>\n",
              "      </button>\n",
              "\n",
              "<style>\n",
              "  .colab-df-quickchart {\n",
              "      --bg-color: #E8F0FE;\n",
              "      --fill-color: #1967D2;\n",
              "      --hover-bg-color: #E2EBFA;\n",
              "      --hover-fill-color: #174EA6;\n",
              "      --disabled-fill-color: #AAA;\n",
              "      --disabled-bg-color: #DDD;\n",
              "  }\n",
              "\n",
              "  [theme=dark] .colab-df-quickchart {\n",
              "      --bg-color: #3B4455;\n",
              "      --fill-color: #D2E3FC;\n",
              "      --hover-bg-color: #434B5C;\n",
              "      --hover-fill-color: #FFFFFF;\n",
              "      --disabled-bg-color: #3B4455;\n",
              "      --disabled-fill-color: #666;\n",
              "  }\n",
              "\n",
              "  .colab-df-quickchart {\n",
              "    background-color: var(--bg-color);\n",
              "    border: none;\n",
              "    border-radius: 50%;\n",
              "    cursor: pointer;\n",
              "    display: none;\n",
              "    fill: var(--fill-color);\n",
              "    height: 32px;\n",
              "    padding: 0;\n",
              "    width: 32px;\n",
              "  }\n",
              "\n",
              "  .colab-df-quickchart:hover {\n",
              "    background-color: var(--hover-bg-color);\n",
              "    box-shadow: 0 1px 2px rgba(60, 64, 67, 0.3), 0 1px 3px 1px rgba(60, 64, 67, 0.15);\n",
              "    fill: var(--button-hover-fill-color);\n",
              "  }\n",
              "\n",
              "  .colab-df-quickchart-complete:disabled,\n",
              "  .colab-df-quickchart-complete:disabled:hover {\n",
              "    background-color: var(--disabled-bg-color);\n",
              "    fill: var(--disabled-fill-color);\n",
              "    box-shadow: none;\n",
              "  }\n",
              "\n",
              "  .colab-df-spinner {\n",
              "    border: 2px solid var(--fill-color);\n",
              "    border-color: transparent;\n",
              "    border-bottom-color: var(--fill-color);\n",
              "    animation:\n",
              "      spin 1s steps(1) infinite;\n",
              "  }\n",
              "\n",
              "  @keyframes spin {\n",
              "    0% {\n",
              "      border-color: transparent;\n",
              "      border-bottom-color: var(--fill-color);\n",
              "      border-left-color: var(--fill-color);\n",
              "    }\n",
              "    20% {\n",
              "      border-color: transparent;\n",
              "      border-left-color: var(--fill-color);\n",
              "      border-top-color: var(--fill-color);\n",
              "    }\n",
              "    30% {\n",
              "      border-color: transparent;\n",
              "      border-left-color: var(--fill-color);\n",
              "      border-top-color: var(--fill-color);\n",
              "      border-right-color: var(--fill-color);\n",
              "    }\n",
              "    40% {\n",
              "      border-color: transparent;\n",
              "      border-right-color: var(--fill-color);\n",
              "      border-top-color: var(--fill-color);\n",
              "    }\n",
              "    60% {\n",
              "      border-color: transparent;\n",
              "      border-right-color: var(--fill-color);\n",
              "    }\n",
              "    80% {\n",
              "      border-color: transparent;\n",
              "      border-right-color: var(--fill-color);\n",
              "      border-bottom-color: var(--fill-color);\n",
              "    }\n",
              "    90% {\n",
              "      border-color: transparent;\n",
              "      border-bottom-color: var(--fill-color);\n",
              "    }\n",
              "  }\n",
              "</style>\n",
              "\n",
              "      <script>\n",
              "        async function quickchart(key) {\n",
              "          const quickchartButtonEl =\n",
              "            document.querySelector('#' + key + ' button');\n",
              "          quickchartButtonEl.disabled = true;  // To prevent multiple clicks.\n",
              "          quickchartButtonEl.classList.add('colab-df-spinner');\n",
              "          try {\n",
              "            const charts = await google.colab.kernel.invokeFunction(\n",
              "                'suggestCharts', [key], {});\n",
              "          } catch (error) {\n",
              "            console.error('Error during call to suggestCharts:', error);\n",
              "          }\n",
              "          quickchartButtonEl.classList.remove('colab-df-spinner');\n",
              "          quickchartButtonEl.classList.add('colab-df-quickchart-complete');\n",
              "        }\n",
              "        (() => {\n",
              "          let quickchartButtonEl =\n",
              "            document.querySelector('#df-e67529bd-8e48-49f4-96ad-c775cfec348c button');\n",
              "          quickchartButtonEl.style.display =\n",
              "            google.colab.kernel.accessAllowed ? 'block' : 'none';\n",
              "        })();\n",
              "      </script>\n",
              "    </div>\n",
              "\n",
              "    </div>\n",
              "  </div>\n"
            ],
            "application/vnd.google.colaboratory.intrinsic+json": {
              "type": "dataframe",
              "variable_name": "df",
              "summary": "{\n  \"name\": \"df\",\n  \"rows\": 24693,\n  \"fields\": [\n    {\n      \"column\": \"Event.Id\",\n      \"properties\": {\n        \"dtype\": \"string\",\n        \"num_unique_values\": 24320,\n        \"samples\": [\n          \"20020917X03912\",\n          \"20020917X04616\",\n          \"20001213X26348\"\n        ],\n        \"semantic_type\": \"\",\n        \"description\": \"\"\n      }\n    },\n    {\n      \"column\": \"Investigation.Type\",\n      \"properties\": {\n        \"dtype\": \"category\",\n        \"num_unique_values\": 2,\n        \"samples\": [\n          \"Incident\",\n          \"Accident\"\n        ],\n        \"semantic_type\": \"\",\n        \"description\": \"\"\n      }\n    },\n    {\n      \"column\": \"Accident.Number\",\n      \"properties\": {\n        \"dtype\": \"string\",\n        \"num_unique_values\": 24693,\n        \"samples\": [\n          \"DEN85FTM06\",\n          \"BFO88FA010\"\n        ],\n        \"semantic_type\": \"\",\n        \"description\": \"\"\n      }\n    },\n    {\n      \"column\": \"Event.Date\",\n      \"properties\": {\n        \"dtype\": \"object\",\n        \"num_unique_values\": 2922,\n        \"samples\": [\n          \"1983-02-22\",\n          \"1987-02-01\"\n        ],\n        \"semantic_type\": \"\",\n        \"description\": \"\"\n      }\n    },\n    {\n      \"column\": \"Injury.Severity\",\n      \"properties\": {\n        \"dtype\": \"category\",\n        \"num_unique_values\": 39,\n        \"samples\": [\n          \"Fatal(270)\",\n          \"Fatal(111)\"\n        ],\n        \"semantic_type\": \"\",\n        \"description\": \"\"\n      }\n    },\n    {\n      \"column\": \"Aircraft.damage\",\n      \"properties\": {\n        \"dtype\": \"category\",\n        \"num_unique_values\": 3,\n        \"samples\": [\n          \"Destroyed\",\n          \"Substantial\"\n        ],\n        \"semantic_type\": \"\",\n        \"description\": \"\"\n      }\n    },\n    {\n      \"column\": \"Registration.Number\",\n      \"properties\": {\n        \"dtype\": \"string\",\n        \"num_unique_values\": 23594,\n        \"samples\": [\n          \"N202CR\",\n          \"N21779\"\n        ],\n        \"semantic_type\": \"\",\n        \"description\": \"\"\n      }\n    },\n    {\n      \"column\": \"Make\",\n      \"properties\": {\n        \"dtype\": \"category\",\n        \"num_unique_values\": 1389,\n        \"samples\": [\n          \"Brown, R. M. Jr.\",\n          \"I.c.a. Brasov - Romania\"\n        ],\n        \"semantic_type\": \"\",\n        \"description\": \"\"\n      }\n    },\n    {\n      \"column\": \"Model\",\n      \"properties\": {\n        \"dtype\": \"category\",\n        \"num_unique_values\": 3925,\n        \"samples\": [\n          \"TRAVEL AIR 2000\",\n          \"MUSTANG II\"\n        ],\n        \"semantic_type\": \"\",\n        \"description\": \"\"\n      }\n    },\n    {\n      \"column\": \"Amateur.Built\",\n      \"properties\": {\n        \"dtype\": \"category\",\n        \"num_unique_values\": 2,\n        \"samples\": [\n          \"Yes\",\n          \"No\"\n        ],\n        \"semantic_type\": \"\",\n        \"description\": \"\"\n      }\n    },\n    {\n      \"column\": \"Number.of.Engines\",\n      \"properties\": {\n        \"dtype\": \"number\",\n        \"std\": 0.4701148654720216,\n        \"min\": 0.0,\n        \"max\": 4.0,\n        \"num_unique_values\": 5,\n        \"samples\": [\n          2.0,\n          4.0\n        ],\n        \"semantic_type\": \"\",\n        \"description\": \"\"\n      }\n    },\n    {\n      \"column\": \"Engine.Type\",\n      \"properties\": {\n        \"dtype\": \"category\",\n        \"num_unique_values\": 6,\n        \"samples\": [\n          \"Reciprocating\",\n          \"Turbo Fan\"\n        ],\n        \"semantic_type\": \"\",\n        \"description\": \"\"\n      }\n    },\n    {\n      \"column\": \"Purpose.of.flight\",\n      \"properties\": {\n        \"dtype\": \"category\",\n        \"num_unique_values\": 12,\n        \"samples\": [\n          \"Other Work Use\",\n          \"Skydiving\"\n        ],\n        \"semantic_type\": \"\",\n        \"description\": \"\"\n      }\n    },\n    {\n      \"column\": \"Total.Fatal.Injuries\",\n      \"properties\": {\n        \"dtype\": \"number\",\n        \"std\": 3.705506266421956,\n        \"min\": 0.0,\n        \"max\": 270.0,\n        \"num_unique_values\": 37,\n        \"samples\": [\n          17.0,\n          23.0\n        ],\n        \"semantic_type\": \"\",\n        \"description\": \"\"\n      }\n    },\n    {\n      \"column\": \"Total.Serious.Injuries\",\n      \"properties\": {\n        \"dtype\": \"number\",\n        \"std\": 0.719939958035664,\n        \"min\": 0.0,\n        \"max\": 47.0,\n        \"num_unique_values\": 17,\n        \"samples\": [\n          0.0,\n          2.0\n        ],\n        \"semantic_type\": \"\",\n        \"description\": \"\"\n      }\n    },\n    {\n      \"column\": \"Total.Minor.Injuries\",\n      \"properties\": {\n        \"dtype\": \"number\",\n        \"std\": 1.5486883902391213,\n        \"min\": 0.0,\n        \"max\": 125.0,\n        \"num_unique_values\": 37,\n        \"samples\": [\n          9.0,\n          8.0\n        ],\n        \"semantic_type\": \"\",\n        \"description\": \"\"\n      }\n    },\n    {\n      \"column\": \"Total.Uninjured\",\n      \"properties\": {\n        \"dtype\": \"number\",\n        \"std\": 24.153929242878462,\n        \"min\": 0.0,\n        \"max\": 588.0,\n        \"num_unique_values\": 238,\n        \"samples\": [\n          105.0,\n          36.0\n        ],\n        \"semantic_type\": \"\",\n        \"description\": \"\"\n      }\n    },\n    {\n      \"column\": \"Weather.Condition\",\n      \"properties\": {\n        \"dtype\": \"category\",\n        \"num_unique_values\": 3,\n        \"samples\": [\n          \"UNK\",\n          \"IMC\"\n        ],\n        \"semantic_type\": \"\",\n        \"description\": \"\"\n      }\n    },\n    {\n      \"column\": \"Broad.phase.of.flight\",\n      \"properties\": {\n        \"dtype\": \"category\",\n        \"num_unique_values\": 12,\n        \"samples\": [\n          \"Go-around\",\n          \"Standing\"\n        ],\n        \"semantic_type\": \"\",\n        \"description\": \"\"\n      }\n    },\n    {\n      \"column\": \"Report.Status\",\n      \"properties\": {\n        \"dtype\": \"category\",\n        \"num_unique_values\": 5,\n        \"samples\": [\n          \"Factual\",\n          \"Probabl\"\n        ],\n        \"semantic_type\": \"\",\n        \"description\": \"\"\n      }\n    }\n  ]\n}"
            }
          },
          "metadata": {},
          "execution_count": 8
        }
      ]
    },
    {
      "cell_type": "markdown",
      "source": [
        "## Visualizing missing data"
      ],
      "metadata": {
        "id": "78nutf0LAFtb"
      }
    },
    {
      "cell_type": "code",
      "source": [
        "plt.figure(figsize=(14,6))\n",
        "sns.heatmap(df.isnull(), cbar=False, cmap='magma')\n",
        "plt.title('Missing Values Heatmap')\n",
        "plt.show()"
      ],
      "metadata": {
        "colab": {
          "base_uri": "https://localhost:8080/",
          "height": 649
        },
        "id": "x2nNmb12AEx1",
        "outputId": "23880030-f498-492e-b48b-ff6dd4f4b6e7"
      },
      "execution_count": 9,
      "outputs": [
        {
          "output_type": "display_data",
          "data": {
            "text/plain": [
              "<Figure size 1400x600 with 1 Axes>"
            ],
            "image/png": "[encoded data removed]"
          },
          "metadata": {}
        }
      ]
    },
    {
      "cell_type": "markdown",
      "source": [
        "## Filling remaining values with forward fill"
      ],
      "metadata": {
        "id": "qRSkCwx0A7w0"
      }
    },
    {
      "cell_type": "code",
      "source": [
        "data = df.fillna(method='ffill')"
      ],
      "metadata": {
        "colab": {
          "base_uri": "https://localhost:8080/"
        },
        "id": "NJmeuWwQa_Ed",
        "outputId": "a6e4ab4d-5811-42a3-8b60-03587cedbd67"
      },
      "execution_count": 10,
      "outputs": [
        {
          "output_type": "stream",
          "name": "stderr",
          "text": [
            "<ipython-input-10-8c21be8192a7>:1: FutureWarning: DataFrame.fillna with 'method' is deprecated and will raise in a future version. Use obj.ffill() or obj.bfill() instead.\n",
            "  data = df.fillna(method='ffill')\n"
          ]
        }
      ]
    },
    {
      "cell_type": "markdown",
      "source": [
        "## Verifying missing after cleaning"
      ],
      "metadata": {
        "id": "NtuyAq9HBHis"
      }
    },
    {
      "cell_type": "code",
      "source": [
        "print(\"\\nMissing Values after cleaning:\\n\", data.isnull().sum().sum())"
      ],
      "metadata": {
        "colab": {
          "base_uri": "https://localhost:8080/"
        },
        "id": "f7bmQgiPbRlE",
        "outputId": "52d8ad33-ab74-47fc-e6ff-0de1e064dfb2"
      },
      "execution_count": 11,
      "outputs": [
        {
          "output_type": "stream",
          "name": "stdout",
          "text": [
            "\n",
            "Missing Values after cleaning:\n",
            " 0\n"
          ]
        }
      ]
    },
    {
      "cell_type": "markdown",
      "source": [
        "## Check final data shape"
      ],
      "metadata": {
        "id": "5X7mxd0Oqe1e"
      }
    },
    {
      "cell_type": "code",
      "source": [
        "df.shape"
      ],
      "metadata": {
        "colab": {
          "base_uri": "https://localhost:8080/"
        },
        "id": "2xRf62aAqkkA",
        "outputId": "4aebfe46-c986-4863-d040-7661e96fc476"
      },
      "execution_count": 12,
      "outputs": [
        {
          "output_type": "execute_result",
          "data": {
            "text/plain": [
              "(24693, 20)"
            ]
          },
          "metadata": {},
          "execution_count": 12
        }
      ]
    },
    {
      "cell_type": "markdown",
      "source": [
        "I dropped irrelevant columns and handled missing data appropriately to maintain focus on aircraft safety factors, ensuring a clean dataset for analysis."
      ],
      "metadata": {
        "id": "cWXRi3PJqovk"
      }
    },
    {
      "cell_type": "markdown",
      "source": [
        "# Exploratory Data Analysis(EDA)\n",
        "\n",
        "I used exploratory data analysis (EDA) with groupings, aggregations, and visualizations to uncover trends related to aircraft safety. This descriptive approach was appropriate because the project focused on identifying safer aircraft models, not predictive modeling."
      ],
      "metadata": {
        "id": "DAzbidHCbwcR"
      }
    },
    {
      "cell_type": "markdown",
      "source": [
        "## Top 10 Aircraft Manufacturers"
      ],
      "metadata": {
        "id": "0TLfTZb3b8oa"
      }
    },
    {
      "cell_type": "markdown",
      "source": [
        "### Analyze aircraft manufacturer accident counts"
      ],
      "metadata": {
        "id": "ltMU_3XnrC1i"
      }
    },
    {
      "cell_type": "code",
      "source": [
        "manufacturer_counts = df['Make'].value_counts().head(10)"
      ],
      "metadata": {
        "id": "-t8Ho9FTq3cD"
      },
      "execution_count": 13,
      "outputs": []
    },
    {
      "cell_type": "code",
      "source": [
        "plt.figure(figsize=(10,6))\n",
        "sns.barplot(x=manufacturer_counts.values, y=manufacturer_counts.index, palette='viridis')\n",
        "plt.title('Top 10 Aircraft Manufacturers by Accident Count')\n",
        "plt.xlabel('Number of Accidents')\n",
        "plt.ylabel('Manufacturer')\n",
        "plt.show()"
      ],
      "metadata": {
        "colab": {
          "base_uri": "https://localhost:8080/",
          "height": 671
        },
        "id": "77438lFjcA9N",
        "outputId": "1918f019-8092-4fbc-bded-6d97c2fd4420"
      },
      "execution_count": 14,
      "outputs": [
        {
          "output_type": "stream",
          "name": "stderr",
          "text": [
            "<ipython-input-14-b9eddfef0f59>:2: FutureWarning: \n",
            "\n",
            "Passing `palette` without assigning `hue` is deprecated and will be removed in v0.14.0. Assign the `y` variable to `hue` and set `legend=False` for the same effect.\n",
            "\n",
            "  sns.barplot(x=manufacturer_counts.values, y=manufacturer_counts.index, palette='viridis')\n"
          ]
        },
        {
          "output_type": "display_data",
          "data": {
            "text/plain": [
              "<Figure size 1000x600 with 1 Axes>"
            ],
            "image/png": "[encoded data removed]"
          },
          "metadata": {}
        }
      ]
    },
    {
      "cell_type": "markdown",
      "source": [
        "## Accidents by the number of engines in the aircraft"
      ],
      "metadata": {
        "id": "txbEZOXscHhf"
      }
    },
    {
      "cell_type": "markdown",
      "source": [
        "## Analyze the number of engines by the aircraft"
      ],
      "metadata": {
        "id": "NNx0Pk_juYBS"
      }
    },
    {
      "cell_type": "code",
      "source": [
        "engine_data = df[['Number.of.Engines', 'Total.Fatal.Injuries']]\n",
        "engine_accident_counts = engine_data.groupby('Number.of.Engines').size().reset_index(name='Accident_Count')\n",
        "engine_accident_counts = engine_accident_counts.sort_values(by='Accident_Count', ascending=False)\n",
        "engine_accident_counts['Engine_Risk_Level'] = engine_accident_counts['Accident_Count'].apply(lambda x: 'High Risk' if x > 10 else 'Low Risk')\n",
        "\n",
        "\n",
        "print(engine_accident_counts)"
      ],
      "metadata": {
        "colab": {
          "base_uri": "https://localhost:8080/"
        },
        "id": "SQolOvVVq559",
        "outputId": "702ba954-f8ec-49f0-ef9c-edc43868c43e"
      },
      "execution_count": 15,
      "outputs": [
        {
          "output_type": "stream",
          "name": "stdout",
          "text": [
            "   Number.of.Engines  Accident_Count Engine_Risk_Level\n",
            "1                1.0           20371         High Risk\n",
            "2                2.0            3280         High Risk\n",
            "0                0.0             354         High Risk\n",
            "3                3.0             248         High Risk\n",
            "4                4.0             154         High Risk\n"
          ]
        }
      ]
    },
    {
      "cell_type": "code",
      "source": [
        "plt.figure(figsize=(10,6))\n",
        "plt.bar(engine_accident_counts['Number.of.Engines'].astype(str), engine_accident_counts['Accident_Count'], color='teal')\n",
        "plt.xlabel('Number of Engines')\n",
        "plt.ylabel('Accident Count')\n",
        "plt.title('Accident Counts by Number of Engines')\n",
        "plt.show()"
      ],
      "metadata": {
        "colab": {
          "base_uri": "https://localhost:8080/",
          "height": 564
        },
        "id": "3NB_h53ecGxU",
        "outputId": "67f47158-f6c5-4924-f4f4-5fd61429485e"
      },
      "execution_count": 16,
      "outputs": [
        {
          "output_type": "display_data",
          "data": {
            "text/plain": [
              "<Figure size 1000x600 with 1 Axes>"
            ],
            "image/png": "[encoded data removed]"
          },
          "metadata": {}
        }
      ]
    },
    {
      "cell_type": "markdown",
      "source": [
        "## Injury Severity Distribution"
      ],
      "metadata": {
        "id": "2Io_gI_vccmP"
      }
    },
    {
      "cell_type": "markdown",
      "source": [
        "### Analyze injury severity"
      ],
      "metadata": {
        "id": "VPRg8y80rLqO"
      }
    },
    {
      "cell_type": "code",
      "source": [
        "injury_counts = df['Injury.Severity'].value_counts()"
      ],
      "metadata": {
        "id": "3UrhnGIUq7-Z"
      },
      "execution_count": 17,
      "outputs": []
    },
    {
      "cell_type": "code",
      "source": [
        "plt.figure(figsize=(8,5))\n",
        "sns.barplot(x=injury_counts.index, y=injury_counts.values, palette='coolwarm')\n",
        "plt.title('Injury Severity in Aviation Accidents')\n",
        "plt.xlabel('Injury Severity')\n",
        "plt.ylabel('Number of Accidents')\n",
        "plt.xticks(rotation=45)\n",
        "plt.show()"
      ],
      "metadata": {
        "colab": {
          "base_uri": "https://localhost:8080/",
          "height": 648
        },
        "id": "uGR8o5RwceUL",
        "outputId": "22a5264a-17d6-4b67-ef0e-80ba1c99d619"
      },
      "execution_count": 18,
      "outputs": [
        {
          "output_type": "stream",
          "name": "stderr",
          "text": [
            "<ipython-input-18-68a949998212>:2: FutureWarning: \n",
            "\n",
            "Passing `palette` without assigning `hue` is deprecated and will be removed in v0.14.0. Assign the `x` variable to `hue` and set `legend=False` for the same effect.\n",
            "\n",
            "  sns.barplot(x=injury_counts.index, y=injury_counts.values, palette='coolwarm')\n"
          ]
        },
        {
          "output_type": "display_data",
          "data": {
            "text/plain": [
              "<Figure size 800x500 with 1 Axes>"
            ],
            "image/png": "[encoded data removed]"
          },
          "metadata": {}
        }
      ]
    },
    {
      "cell_type": "markdown",
      "source": [
        "## Correlation Matrix"
      ],
      "metadata": {
        "id": "9K0GNmG8B-MV"
      }
    },
    {
      "cell_type": "code",
      "source": [
        "# Select only numeric columns\n",
        "numeric_df = df.select_dtypes(include=[np.number])\n",
        "\n",
        "if not numeric_df.empty:\n",
        "    plt.figure(figsize=(14,10))\n",
        "    sns.heatmap(numeric_df.corr(), annot=True, cmap='coolwarm', fmt='.2f', square=True)\n",
        "    plt.title('Correlation Matrix')\n",
        "    plt.show()\n",
        "else:\n",
        "    print(\"No numeric data available for correlation heatmap.\")"
      ],
      "metadata": {
        "colab": {
          "base_uri": "https://localhost:8080/",
          "height": 853
        },
        "id": "35YW9gapCBGv",
        "outputId": "a75e33ae-7768-48ad-cb56-7468cf8602c8"
      },
      "execution_count": 19,
      "outputs": [
        {
          "output_type": "display_data",
          "data": {
            "text/plain": [
              "<Figure size 1400x1000 with 2 Axes>"
            ],
            "image/png": "[encoded data removed]"
          },
          "metadata": {}
        }
      ]
    },
    {
      "cell_type": "markdown",
      "source": [
        "# Evaluation\n",
        "\n",
        "The analysis successfully identified safer aircraft manufacturers and revealed that planes with fewer engines are linked to less severe accidents.\n",
        "Since this was a descriptive analysis, evaluation focused on how well the insights addressed business questions and supported risk-aware decision-making."
      ],
      "metadata": {
        "id": "J8Avn5sbsByG"
      }
    },
    {
      "cell_type": "markdown",
      "source": [
        "# Recommendations\n",
        "\n",
        "1. Focus investments on aircraft models built by manufacturers who show consistently low numbers of accidents and incidents over time. This will help minimize operational risks and reduce potential insurance and maintenance costs.\n",
        "\n",
        "2. Aircraft with fewer engines typically have simpler mechanical systems, which can reduce the risk of technical failure and lower long-term maintenance costs—making them a safer and more cost-effective option.\n",
        "\n",
        "3. Focusing on aircraft with less severe accident outcomes can protect both company reputation and financial stability."
      ],
      "metadata": {
        "id": "MQ9KPVUti7Ql"
      }
    },
    {
      "cell_type": "markdown",
      "source": [
        "# Conclusion\n",
        "\n",
        "This project provided valuable insights into aviation risks by analyzing historical accident data. The findings highlight safer manufacturers and show that aircraft with fewer engines may be linked to less severe outcomes, supporting safer investment decisions. While based on historical data, these insights offer a strong foundation, and future work should incorporate more recent safety data to refine recommendations as the business grows."
      ],
      "metadata": {
        "id": "gnHxWRoxkSP_"
      }
    },
    {
      "cell_type": "markdown",
      "source": [
        "# Save cleaned Data"
      ],
      "metadata": {
        "id": "8r6po6IGcy5K"
      }
    },
    {
      "cell_type": "code",
      "source": [
        "data.to_csv('/content/sample_data/Cleaned_AviationData.csv', index=False)\n",
        "\n",
        "print(\"\\nCleaned dataset saved successfully!\")"
      ],
      "metadata": {
        "colab": {
          "base_uri": "https://localhost:8080/"
        },
        "id": "wtSwGUJoc1Ty",
        "outputId": "f54c37f1-3b01-449f-e2db-283969fa27da"
      },
      "execution_count": 20,
      "outputs": [
        {
          "output_type": "stream",
          "name": "stdout",
          "text": [
            "\n",
            "Cleaned dataset saved successfully!\n"
          ]
        }
      ]
    }
  ]
}